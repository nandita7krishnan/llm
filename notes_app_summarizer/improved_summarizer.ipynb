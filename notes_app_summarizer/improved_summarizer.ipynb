{
  "cells": [
    {
      "cell_type": "code",
      "execution_count": 48,
      "metadata": {},
      "outputs": [
        {
          "name": "stdout",
          "output_type": "stream",
          "text": [
            "Defaulting to user installation because normal site-packages is not writeable\n",
            "Requirement already satisfied: spacy in /Users/nanditakrishnan/Library/Python/3.9/lib/python/site-packages (3.8.7)\n",
            "Requirement already satisfied: spacy-loggers<2.0.0,>=1.0.0 in /Users/nanditakrishnan/Library/Python/3.9/lib/python/site-packages (from spacy) (1.0.5)\n",
            "Requirement already satisfied: preshed<3.1.0,>=3.0.2 in /Users/nanditakrishnan/Library/Python/3.9/lib/python/site-packages (from spacy) (3.0.10)\n",
            "Requirement already satisfied: langcodes<4.0.0,>=3.2.0 in /Users/nanditakrishnan/Library/Python/3.9/lib/python/site-packages (from spacy) (3.5.0)\n",
            "Requirement already satisfied: weasel<0.5.0,>=0.1.0 in /Users/nanditakrishnan/Library/Python/3.9/lib/python/site-packages (from spacy) (0.4.1)\n",
            "Requirement already satisfied: numpy>=1.19.0 in /Users/nanditakrishnan/Library/Python/3.9/lib/python/site-packages (from spacy) (2.0.2)\n",
            "Requirement already satisfied: cymem<2.1.0,>=2.0.2 in /Users/nanditakrishnan/Library/Python/3.9/lib/python/site-packages (from spacy) (2.0.11)\n",
            "Requirement already satisfied: murmurhash<1.1.0,>=0.28.0 in /Users/nanditakrishnan/Library/Python/3.9/lib/python/site-packages (from spacy) (1.0.13)\n",
            "Requirement already satisfied: pydantic!=1.8,!=1.8.1,<3.0.0,>=1.7.4 in /Users/nanditakrishnan/Library/Python/3.9/lib/python/site-packages (from spacy) (2.11.9)\n",
            "Requirement already satisfied: typer<1.0.0,>=0.3.0 in /Users/nanditakrishnan/Library/Python/3.9/lib/python/site-packages (from spacy) (0.19.2)\n",
            "Requirement already satisfied: packaging>=20.0 in /Users/nanditakrishnan/Library/Python/3.9/lib/python/site-packages (from spacy) (25.0)\n",
            "Requirement already satisfied: jinja2 in /Users/nanditakrishnan/Library/Python/3.9/lib/python/site-packages (from spacy) (3.1.6)\n",
            "Requirement already satisfied: requests<3.0.0,>=2.13.0 in /Users/nanditakrishnan/Library/Python/3.9/lib/python/site-packages (from spacy) (2.32.5)\n",
            "Requirement already satisfied: tqdm<5.0.0,>=4.38.0 in /Users/nanditakrishnan/Library/Python/3.9/lib/python/site-packages (from spacy) (4.67.1)\n",
            "Requirement already satisfied: srsly<3.0.0,>=2.4.3 in /Users/nanditakrishnan/Library/Python/3.9/lib/python/site-packages (from spacy) (2.5.1)\n",
            "Requirement already satisfied: spacy-legacy<3.1.0,>=3.0.11 in /Users/nanditakrishnan/Library/Python/3.9/lib/python/site-packages (from spacy) (3.0.12)\n",
            "Requirement already satisfied: catalogue<2.1.0,>=2.0.6 in /Users/nanditakrishnan/Library/Python/3.9/lib/python/site-packages (from spacy) (2.0.10)\n",
            "Requirement already satisfied: wasabi<1.2.0,>=0.9.1 in /Users/nanditakrishnan/Library/Python/3.9/lib/python/site-packages (from spacy) (1.1.3)\n",
            "Requirement already satisfied: setuptools in /Applications/Xcode.app/Contents/Developer/Library/Frameworks/Python3.framework/Versions/3.9/lib/python3.9/site-packages (from spacy) (58.0.4)\n",
            "Requirement already satisfied: thinc<8.4.0,>=8.3.4 in /Users/nanditakrishnan/Library/Python/3.9/lib/python/site-packages (from spacy) (8.3.6)\n",
            "Requirement already satisfied: language-data>=1.2 in /Users/nanditakrishnan/Library/Python/3.9/lib/python/site-packages (from langcodes<4.0.0,>=3.2.0->spacy) (1.3.0)\n",
            "Requirement already satisfied: marisa-trie>=1.1.0 in /Users/nanditakrishnan/Library/Python/3.9/lib/python/site-packages (from language-data>=1.2->langcodes<4.0.0,>=3.2.0->spacy) (1.3.1)\n",
            "Requirement already satisfied: typing-inspection>=0.4.0 in /Users/nanditakrishnan/Library/Python/3.9/lib/python/site-packages (from pydantic!=1.8,!=1.8.1,<3.0.0,>=1.7.4->spacy) (0.4.2)\n",
            "Requirement already satisfied: pydantic-core==2.33.2 in /Users/nanditakrishnan/Library/Python/3.9/lib/python/site-packages (from pydantic!=1.8,!=1.8.1,<3.0.0,>=1.7.4->spacy) (2.33.2)\n",
            "Requirement already satisfied: annotated-types>=0.6.0 in /Users/nanditakrishnan/Library/Python/3.9/lib/python/site-packages (from pydantic!=1.8,!=1.8.1,<3.0.0,>=1.7.4->spacy) (0.7.0)\n",
            "Requirement already satisfied: typing-extensions>=4.12.2 in /Users/nanditakrishnan/Library/Python/3.9/lib/python/site-packages (from pydantic!=1.8,!=1.8.1,<3.0.0,>=1.7.4->spacy) (4.14.1)\n",
            "Requirement already satisfied: urllib3<3,>=1.21.1 in /Users/nanditakrishnan/Library/Python/3.9/lib/python/site-packages (from requests<3.0.0,>=2.13.0->spacy) (2.5.0)\n",
            "Requirement already satisfied: charset_normalizer<4,>=2 in /Users/nanditakrishnan/Library/Python/3.9/lib/python/site-packages (from requests<3.0.0,>=2.13.0->spacy) (3.4.3)\n",
            "Requirement already satisfied: certifi>=2017.4.17 in /Users/nanditakrishnan/Library/Python/3.9/lib/python/site-packages (from requests<3.0.0,>=2.13.0->spacy) (2025.8.3)\n",
            "Requirement already satisfied: idna<4,>=2.5 in /Users/nanditakrishnan/Library/Python/3.9/lib/python/site-packages (from requests<3.0.0,>=2.13.0->spacy) (3.10)\n",
            "Requirement already satisfied: confection<1.0.0,>=0.0.1 in /Users/nanditakrishnan/Library/Python/3.9/lib/python/site-packages (from thinc<8.4.0,>=8.3.4->spacy) (0.1.5)\n",
            "Requirement already satisfied: blis<1.4.0,>=1.3.0 in /Users/nanditakrishnan/Library/Python/3.9/lib/python/site-packages (from thinc<8.4.0,>=8.3.4->spacy) (1.3.0)\n",
            "Requirement already satisfied: shellingham>=1.3.0 in /Users/nanditakrishnan/Library/Python/3.9/lib/python/site-packages (from typer<1.0.0,>=0.3.0->spacy) (1.5.4)\n",
            "Requirement already satisfied: click>=8.0.0 in /Users/nanditakrishnan/Library/Python/3.9/lib/python/site-packages (from typer<1.0.0,>=0.3.0->spacy) (8.1.8)\n",
            "Requirement already satisfied: rich>=10.11.0 in /Users/nanditakrishnan/Library/Python/3.9/lib/python/site-packages (from typer<1.0.0,>=0.3.0->spacy) (14.1.0)\n",
            "Requirement already satisfied: pygments<3.0.0,>=2.13.0 in /Users/nanditakrishnan/Library/Python/3.9/lib/python/site-packages (from rich>=10.11.0->typer<1.0.0,>=0.3.0->spacy) (2.19.2)\n",
            "Requirement already satisfied: markdown-it-py>=2.2.0 in /Users/nanditakrishnan/Library/Python/3.9/lib/python/site-packages (from rich>=10.11.0->typer<1.0.0,>=0.3.0->spacy) (3.0.0)\n",
            "Requirement already satisfied: mdurl~=0.1 in /Users/nanditakrishnan/Library/Python/3.9/lib/python/site-packages (from markdown-it-py>=2.2.0->rich>=10.11.0->typer<1.0.0,>=0.3.0->spacy) (0.1.2)\n",
            "Requirement already satisfied: smart-open<8.0.0,>=5.2.1 in /Users/nanditakrishnan/Library/Python/3.9/lib/python/site-packages (from weasel<0.5.0,>=0.1.0->spacy) (7.3.1)\n",
            "Requirement already satisfied: cloudpathlib<1.0.0,>=0.7.0 in /Users/nanditakrishnan/Library/Python/3.9/lib/python/site-packages (from weasel<0.5.0,>=0.1.0->spacy) (0.23.0)\n",
            "Requirement already satisfied: wrapt in /Users/nanditakrishnan/Library/Python/3.9/lib/python/site-packages (from smart-open<8.0.0,>=5.2.1->weasel<0.5.0,>=0.1.0->spacy) (1.17.3)\n",
            "Requirement already satisfied: MarkupSafe>=2.0 in /Users/nanditakrishnan/Library/Python/3.9/lib/python/site-packages (from jinja2->spacy) (3.0.3)\n",
            "\u001b[33mWARNING: You are using pip version 21.2.4; however, version 25.2 is available.\n",
            "You should consider upgrading via the '/Applications/Xcode.app/Contents/Developer/usr/bin/python3 -m pip install --upgrade pip' command.\u001b[0m\n",
            "/Users/nanditakrishnan/Library/Python/3.9/lib/python/site-packages/urllib3/__init__.py:35: NotOpenSSLWarning: urllib3 v2 only supports OpenSSL 1.1.1+, currently the 'ssl' module is compiled with 'LibreSSL 2.8.3'. See: https://github.com/urllib3/urllib3/issues/3020\n",
            "  warnings.warn(\n",
            "Defaulting to user installation because normal site-packages is not writeable\n",
            "Collecting en-core-web-sm==3.8.0\n",
            "  Downloading https://github.com/explosion/spacy-models/releases/download/en_core_web_sm-3.8.0/en_core_web_sm-3.8.0-py3-none-any.whl (12.8 MB)\n",
            "\u001b[K     |████████████████████████████████| 12.8 MB 7.5 MB/s eta 0:00:01\n",
            "\u001b[?25h\u001b[33mWARNING: You are using pip version 21.2.4; however, version 25.2 is available.\n",
            "You should consider upgrading via the '/Applications/Xcode.app/Contents/Developer/usr/bin/python3 -m pip install --upgrade pip' command.\u001b[0m\n",
            "\u001b[38;5;2m✔ Download and installation successful\u001b[0m\n",
            "You can now load the package via spacy.load('en_core_web_sm')\n"
          ]
        }
      ],
      "source": [
        "import sys\n",
        "!{sys.executable} -m pip install spacy\n",
        "!{sys.executable} -m spacy download en_core_web_sm\n"
      ]
    },
    {
      "cell_type": "markdown",
      "metadata": {},
      "source": [
        "# Improved Hotel Review Summarizer\n",
        "\n",
        "This notebook demonstrates best practices for extracting insights from hotel reviews, including data cleaning, chunking, and summarization using modern LLM techniques.\n"
      ]
    },
    {
      "cell_type": "code",
      "execution_count": 57,
      "metadata": {},
      "outputs": [
        {
          "name": "stdout",
          "output_type": "stream",
          "text": [
            "All libraries imported successfully.\n"
          ]
        }
      ],
      "source": [
        "# Cell 2: Import necessary libraries\n",
        "# This cell imports libraries for data handling, text cleaning, and summarization.\n",
        "\n",
        "import pandas as pd\n",
        "import re\n",
        "from langchain.text_splitter import RecursiveCharacterTextSplitter\n",
        "from transformers import pipeline\n",
        "\n",
        "print(\"All libraries imported successfully.\")\n"
      ]
    },
    {
      "cell_type": "markdown",
      "metadata": {},
      "source": [
        "## Load and Preview Data\n",
        "\n",
        "This cell loads the hotel reviews from the CSV file and displays a sample to validate that the data is loaded correctly.\n"
      ]
    },
    {
      "cell_type": "code",
      "execution_count": 58,
      "metadata": {},
      "outputs": [
        {
          "data": {
            "text/html": [
              "<div>\n",
              "<style scoped>\n",
              "    .dataframe tbody tr th:only-of-type {\n",
              "        vertical-align: middle;\n",
              "    }\n",
              "\n",
              "    .dataframe tbody tr th {\n",
              "        vertical-align: top;\n",
              "    }\n",
              "\n",
              "    .dataframe thead th {\n",
              "        text-align: right;\n",
              "    }\n",
              "</style>\n",
              "<table border=\"1\" class=\"dataframe\">\n",
              "  <thead>\n",
              "    <tr style=\"text-align: right;\">\n",
              "      <th></th>\n",
              "      <th>Review</th>\n",
              "      <th>Rating</th>\n",
              "    </tr>\n",
              "  </thead>\n",
              "  <tbody>\n",
              "    <tr>\n",
              "      <th>0</th>\n",
              "      <td>nice hotel expensive parking got good deal sta...</td>\n",
              "      <td>4</td>\n",
              "    </tr>\n",
              "    <tr>\n",
              "      <th>1</th>\n",
              "      <td>ok nothing special charge diamond member hilto...</td>\n",
              "      <td>2</td>\n",
              "    </tr>\n",
              "    <tr>\n",
              "      <th>2</th>\n",
              "      <td>nice rooms not 4* experience hotel monaco seat...</td>\n",
              "      <td>3</td>\n",
              "    </tr>\n",
              "    <tr>\n",
              "      <th>3</th>\n",
              "      <td>unique, great stay, wonderful time hotel monac...</td>\n",
              "      <td>5</td>\n",
              "    </tr>\n",
              "    <tr>\n",
              "      <th>4</th>\n",
              "      <td>great stay great stay, went seahawk game aweso...</td>\n",
              "      <td>5</td>\n",
              "    </tr>\n",
              "  </tbody>\n",
              "</table>\n",
              "</div>"
            ],
            "text/plain": [
              "                                              Review  Rating\n",
              "0  nice hotel expensive parking got good deal sta...       4\n",
              "1  ok nothing special charge diamond member hilto...       2\n",
              "2  nice rooms not 4* experience hotel monaco seat...       3\n",
              "3  unique, great stay, wonderful time hotel monac...       5\n",
              "4  great stay great stay, went seahawk game aweso...       5"
            ]
          },
          "metadata": {},
          "output_type": "display_data"
        },
        {
          "name": "stdout",
          "output_type": "stream",
          "text": [
            "Loaded 20491 reviews. Columns: ['Review', 'Rating']\n"
          ]
        }
      ],
      "source": [
        "# Cell 4: Load the hotel reviews CSV and display a sample\n",
        "\n",
        "df = pd.read_csv(\"tripadvisor_hotel_reviews.csv\")\n",
        "display(df.head())\n",
        "print(f\"Loaded {len(df)} reviews. Columns: {df.columns.tolist()}\")\n"
      ]
    },
    {
      "cell_type": "markdown",
      "metadata": {},
      "source": [
        "## Data Cleaning and Preprocessing\n",
        "\n",
        "This cell will clean the review text by removing extra spaces, fixing punctuation, and standardizing the format. It will also drop any rows with missing or empty reviews. The cleaned data will be displayed for validation.\n"
      ]
    },
    {
      "cell_type": "code",
      "execution_count": 59,
      "metadata": {},
      "outputs": [
        {
          "data": {
            "text/html": [
              "<div>\n",
              "<style scoped>\n",
              "    .dataframe tbody tr th:only-of-type {\n",
              "        vertical-align: middle;\n",
              "    }\n",
              "\n",
              "    .dataframe tbody tr th {\n",
              "        vertical-align: top;\n",
              "    }\n",
              "\n",
              "    .dataframe thead th {\n",
              "        text-align: right;\n",
              "    }\n",
              "</style>\n",
              "<table border=\"1\" class=\"dataframe\">\n",
              "  <thead>\n",
              "    <tr style=\"text-align: right;\">\n",
              "      <th></th>\n",
              "      <th>Cleaned_Review</th>\n",
              "    </tr>\n",
              "  </thead>\n",
              "  <tbody>\n",
              "    <tr>\n",
              "      <th>0</th>\n",
              "      <td>nice hotel expensive parking got good deal sta...</td>\n",
              "    </tr>\n",
              "    <tr>\n",
              "      <th>1</th>\n",
              "      <td>ok nothing special charge diamond member hilto...</td>\n",
              "    </tr>\n",
              "    <tr>\n",
              "      <th>2</th>\n",
              "      <td>nice rooms not 4* experience hotel monaco seat...</td>\n",
              "    </tr>\n",
              "    <tr>\n",
              "      <th>3</th>\n",
              "      <td>unique, great stay, wonderful time hotel monac...</td>\n",
              "    </tr>\n",
              "    <tr>\n",
              "      <th>4</th>\n",
              "      <td>great stay great stay, went seahawk game aweso...</td>\n",
              "    </tr>\n",
              "  </tbody>\n",
              "</table>\n",
              "</div>"
            ],
            "text/plain": [
              "                                      Cleaned_Review\n",
              "0  nice hotel expensive parking got good deal sta...\n",
              "1  ok nothing special charge diamond member hilto...\n",
              "2  nice rooms not 4* experience hotel monaco seat...\n",
              "3  unique, great stay, wonderful time hotel monac...\n",
              "4  great stay great stay, went seahawk game aweso..."
            ]
          },
          "metadata": {},
          "output_type": "display_data"
        },
        {
          "name": "stdout",
          "output_type": "stream",
          "text": [
            "After cleaning: 20491 reviews remain.\n"
          ]
        }
      ],
      "source": [
        "# Cell 6: Clean and preprocess the review text\n",
        "\n",
        "def clean_text(text):\n",
        "    if pd.isnull(text):\n",
        "        return \"\"\n",
        "    text = re.sub(r'\\s+', ' ', text)  # Remove extra spaces\n",
        "    text = re.sub(r'\\.(?=[^\\s])', '. ', text)  # Ensure space after periods\n",
        "    text = text.strip()\n",
        "    return text\n",
        "\n",
        "# Assume the review column is named 'Review'. Adjust if needed.\n",
        "df = df.dropna(subset=['Review'])\n",
        "df['Cleaned_Review'] = df['Review'].apply(clean_text)\n",
        "df = df[df['Cleaned_Review'].str.strip() != '']\n",
        "display(df[['Cleaned_Review']].head())\n",
        "print(f\"After cleaning: {len(df)} reviews remain.\")\n"
      ]
    },
    {
      "cell_type": "markdown",
      "metadata": {},
      "source": [
        "## Data Cleaning Validation\n",
        "\n",
        "This cell will analyze the cleaned reviews for common issues such as:\n",
        "- Non-ASCII characters\n",
        "- Excessive punctuation or special symbols\n",
        "- Very short or very long reviews\n",
        "- Repeated characters or words\n",
        "\n",
        "It will display examples if such issues are found, so we can decide if further cleaning is needed.\n"
      ]
    },
    {
      "cell_type": "code",
      "execution_count": 60,
      "metadata": {},
      "outputs": [
        {
          "name": "stderr",
          "output_type": "stream",
          "text": [
            "/var/folders/1k/q0002j711x793jnb4kl_p6340000gn/T/ipykernel_45918/2667753938.py:15: UserWarning: This pattern is interpreted as a regular expression, and has match groups. To actually get the groups, use str.extract.\n",
            "  repeated_chars = df[df['Cleaned_Review'].str.contains(r'(.)\\1{3,}', regex=True)]\n"
          ]
        },
        {
          "name": "stdout",
          "output_type": "stream",
          "text": [
            "Non-ASCII reviews: 923\n"
          ]
        },
        {
          "data": {
            "text/html": [
              "<div>\n",
              "<style scoped>\n",
              "    .dataframe tbody tr th:only-of-type {\n",
              "        vertical-align: middle;\n",
              "    }\n",
              "\n",
              "    .dataframe tbody tr th {\n",
              "        vertical-align: top;\n",
              "    }\n",
              "\n",
              "    .dataframe thead th {\n",
              "        text-align: right;\n",
              "    }\n",
              "</style>\n",
              "<table border=\"1\" class=\"dataframe\">\n",
              "  <thead>\n",
              "    <tr style=\"text-align: right;\">\n",
              "      <th></th>\n",
              "      <th>Cleaned_Review</th>\n",
              "    </tr>\n",
              "  </thead>\n",
              "  <tbody>\n",
              "    <tr>\n",
              "      <th>15</th>\n",
              "      <td>horrible customer service hotel stay february ...</td>\n",
              "    </tr>\n",
              "    <tr>\n",
              "      <th>20</th>\n",
              "      <td>service service service spent week g-friend la...</td>\n",
              "    </tr>\n",
              "    <tr>\n",
              "      <th>67</th>\n",
              "      <td>ace not place husband stayed ace hotel seattle...</td>\n",
              "    </tr>\n",
              "    <tr>\n",
              "      <th>384</th>\n",
              "      <td>not good respect frequent business traveler se...</td>\n",
              "    </tr>\n",
              "    <tr>\n",
              "      <th>400</th>\n",
              "      <td>great stay, got decent price standard room kin...</td>\n",
              "    </tr>\n",
              "  </tbody>\n",
              "</table>\n",
              "</div>"
            ],
            "text/plain": [
              "                                        Cleaned_Review\n",
              "15   horrible customer service hotel stay february ...\n",
              "20   service service service spent week g-friend la...\n",
              "67   ace not place husband stayed ace hotel seattle...\n",
              "384  not good respect frequent business traveler se...\n",
              "400  great stay, got decent price standard room kin..."
            ]
          },
          "metadata": {},
          "output_type": "display_data"
        },
        {
          "name": "stdout",
          "output_type": "stream",
          "text": [
            "Reviews with excessive punctuation: 11723\n"
          ]
        },
        {
          "data": {
            "text/html": [
              "<div>\n",
              "<style scoped>\n",
              "    .dataframe tbody tr th:only-of-type {\n",
              "        vertical-align: middle;\n",
              "    }\n",
              "\n",
              "    .dataframe tbody tr th {\n",
              "        vertical-align: top;\n",
              "    }\n",
              "\n",
              "    .dataframe thead th {\n",
              "        text-align: right;\n",
              "    }\n",
              "</style>\n",
              "<table border=\"1\" class=\"dataframe\">\n",
              "  <thead>\n",
              "    <tr style=\"text-align: right;\">\n",
              "      <th></th>\n",
              "      <th>Cleaned_Review</th>\n",
              "    </tr>\n",
              "  </thead>\n",
              "  <tbody>\n",
              "    <tr>\n",
              "      <th>0</th>\n",
              "      <td>nice hotel expensive parking got good deal sta...</td>\n",
              "    </tr>\n",
              "    <tr>\n",
              "      <th>1</th>\n",
              "      <td>ok nothing special charge diamond member hilto...</td>\n",
              "    </tr>\n",
              "    <tr>\n",
              "      <th>2</th>\n",
              "      <td>nice rooms not 4* experience hotel monaco seat...</td>\n",
              "    </tr>\n",
              "    <tr>\n",
              "      <th>3</th>\n",
              "      <td>unique, great stay, wonderful time hotel monac...</td>\n",
              "    </tr>\n",
              "    <tr>\n",
              "      <th>4</th>\n",
              "      <td>great stay great stay, went seahawk game aweso...</td>\n",
              "    </tr>\n",
              "  </tbody>\n",
              "</table>\n",
              "</div>"
            ],
            "text/plain": [
              "                                      Cleaned_Review\n",
              "0  nice hotel expensive parking got good deal sta...\n",
              "1  ok nothing special charge diamond member hilto...\n",
              "2  nice rooms not 4* experience hotel monaco seat...\n",
              "3  unique, great stay, wonderful time hotel monac...\n",
              "4  great stay great stay, went seahawk game aweso..."
            ]
          },
          "metadata": {},
          "output_type": "display_data"
        },
        {
          "name": "stdout",
          "output_type": "stream",
          "text": [
            "Very short reviews: 0\n",
            "Very long reviews: 3936\n"
          ]
        },
        {
          "data": {
            "text/html": [
              "<div>\n",
              "<style scoped>\n",
              "    .dataframe tbody tr th:only-of-type {\n",
              "        vertical-align: middle;\n",
              "    }\n",
              "\n",
              "    .dataframe tbody tr th {\n",
              "        vertical-align: top;\n",
              "    }\n",
              "\n",
              "    .dataframe thead th {\n",
              "        text-align: right;\n",
              "    }\n",
              "</style>\n",
              "<table border=\"1\" class=\"dataframe\">\n",
              "  <thead>\n",
              "    <tr style=\"text-align: right;\">\n",
              "      <th></th>\n",
              "      <th>Cleaned_Review</th>\n",
              "    </tr>\n",
              "  </thead>\n",
              "  <tbody>\n",
              "    <tr>\n",
              "      <th>1</th>\n",
              "      <td>ok nothing special charge diamond member hilto...</td>\n",
              "    </tr>\n",
              "    <tr>\n",
              "      <th>2</th>\n",
              "      <td>nice rooms not 4* experience hotel monaco seat...</td>\n",
              "    </tr>\n",
              "    <tr>\n",
              "      <th>4</th>\n",
              "      <td>great stay great stay, went seahawk game aweso...</td>\n",
              "    </tr>\n",
              "    <tr>\n",
              "      <th>15</th>\n",
              "      <td>horrible customer service hotel stay february ...</td>\n",
              "    </tr>\n",
              "    <tr>\n",
              "      <th>16</th>\n",
              "      <td>disappointed say anticipating stay hotel monac...</td>\n",
              "    </tr>\n",
              "  </tbody>\n",
              "</table>\n",
              "</div>"
            ],
            "text/plain": [
              "                                       Cleaned_Review\n",
              "1   ok nothing special charge diamond member hilto...\n",
              "2   nice rooms not 4* experience hotel monaco seat...\n",
              "4   great stay great stay, went seahawk game aweso...\n",
              "15  horrible customer service hotel stay february ...\n",
              "16  disappointed say anticipating stay hotel monac..."
            ]
          },
          "metadata": {},
          "output_type": "display_data"
        },
        {
          "name": "stdout",
          "output_type": "stream",
          "text": [
            "Reviews with repeated characters: 244\n"
          ]
        },
        {
          "data": {
            "text/html": [
              "<div>\n",
              "<style scoped>\n",
              "    .dataframe tbody tr th:only-of-type {\n",
              "        vertical-align: middle;\n",
              "    }\n",
              "\n",
              "    .dataframe tbody tr th {\n",
              "        vertical-align: top;\n",
              "    }\n",
              "\n",
              "    .dataframe thead th {\n",
              "        text-align: right;\n",
              "    }\n",
              "</style>\n",
              "<table border=\"1\" class=\"dataframe\">\n",
              "  <thead>\n",
              "    <tr style=\"text-align: right;\">\n",
              "      <th></th>\n",
              "      <th>Cleaned_Review</th>\n",
              "    </tr>\n",
              "  </thead>\n",
              "  <tbody>\n",
              "    <tr>\n",
              "      <th>19</th>\n",
              "      <td>hmmmmm say really high hopes hotel monaco chos...</td>\n",
              "    </tr>\n",
              "    <tr>\n",
              "      <th>25</th>\n",
              "      <td>n't mind noise place great, read reviews noise...</td>\n",
              "    </tr>\n",
              "    <tr>\n",
              "      <th>55</th>\n",
              "      <td>nice place, lunatic 20000+ miles flying space ...</td>\n",
              "    </tr>\n",
              "    <tr>\n",
              "      <th>177</th>\n",
              "      <td>great deal priceline bid win, live vancouver b...</td>\n",
              "    </tr>\n",
              "    <tr>\n",
              "      <th>420</th>\n",
              "      <td>brrrrrrrrrrrrrrr coat, need hotel good rating ...</td>\n",
              "    </tr>\n",
              "  </tbody>\n",
              "</table>\n",
              "</div>"
            ],
            "text/plain": [
              "                                        Cleaned_Review\n",
              "19   hmmmmm say really high hopes hotel monaco chos...\n",
              "25   n't mind noise place great, read reviews noise...\n",
              "55   nice place, lunatic 20000+ miles flying space ...\n",
              "177  great deal priceline bid win, live vancouver b...\n",
              "420  brrrrrrrrrrrrrrr coat, need hotel good rating ..."
            ]
          },
          "metadata": {},
          "output_type": "display_data"
        }
      ],
      "source": [
        "# Cell 8: Analyze cleaned reviews for further cleaning needs\n",
        "\n",
        "# Find reviews with non-ASCII characters\n",
        "non_ascii = df[df['Cleaned_Review'].apply(lambda x: any(ord(c) > 127 for c in x))]\n",
        "\n",
        "# Find reviews with excessive punctuation or special symbols\n",
        "import string\n",
        "excessive_punct = df[df['Cleaned_Review'].apply(lambda x: sum(1 for c in x if c in string.punctuation) > 10)]\n",
        "\n",
        "# Find very short or very long reviews\n",
        "short_reviews = df[df['Cleaned_Review'].str.len() < 20]\n",
        "long_reviews = df[df['Cleaned_Review'].str.len() > 1000]\n",
        "\n",
        "# Find repeated characters (e.g., '!!!!', 'soooo')\n",
        "repeated_chars = df[df['Cleaned_Review'].str.contains(r'(.)\\1{3,}', regex=True)]\n",
        "\n",
        "print(f\"Non-ASCII reviews: {len(non_ascii)}\")\n",
        "if not non_ascii.empty:\n",
        "    display(non_ascii[['Cleaned_Review']].head())\n",
        "\n",
        "print(f\"Reviews with excessive punctuation: {len(excessive_punct)}\")\n",
        "if not excessive_punct.empty:\n",
        "    display(excessive_punct[['Cleaned_Review']].head())\n",
        "\n",
        "print(f\"Very short reviews: {len(short_reviews)}\")\n",
        "if not short_reviews.empty:\n",
        "    display(short_reviews[['Cleaned_Review']].head())\n",
        "\n",
        "print(f\"Very long reviews: {len(long_reviews)}\")\n",
        "if not long_reviews.empty:\n",
        "    display(long_reviews[['Cleaned_Review']].head())\n",
        "\n",
        "print(f\"Reviews with repeated characters: {len(repeated_chars)}\")\n",
        "if not repeated_chars.empty:\n",
        "    display(repeated_chars[['Cleaned_Review']].head())\n"
      ]
    },
    {
      "cell_type": "code",
      "execution_count": null,
      "metadata": {},
      "outputs": [
        {
          "name": "stdout",
          "output_type": "stream",
          "text": [
            "Defaulting to user installation because normal site-packages is not writeable\n",
            "Requirement already satisfied: nltk in /Users/nanditakrishnan/Library/Python/3.9/lib/python/site-packages (3.9.2)\n",
            "Requirement already satisfied: regex>=2021.8.3 in /Users/nanditakrishnan/Library/Python/3.9/lib/python/site-packages (from nltk) (2025.9.18)\n",
            "Requirement already satisfied: tqdm in /Users/nanditakrishnan/Library/Python/3.9/lib/python/site-packages (from nltk) (4.67.1)\n",
            "Requirement already satisfied: click in /Users/nanditakrishnan/Library/Python/3.9/lib/python/site-packages (from nltk) (8.1.8)\n",
            "Requirement already satisfied: joblib in /Users/nanditakrishnan/Library/Python/3.9/lib/python/site-packages (from nltk) (1.5.2)\n",
            "\u001b[33mWARNING: You are using pip version 21.2.4; however, version 25.2 is available.\n",
            "You should consider upgrading via the '/Applications/Xcode.app/Contents/Developer/usr/bin/python3 -m pip install --upgrade pip' command.\u001b[0m\n"
          ]
        },
        {
          "data": {
            "text/html": [
              "<div>\n",
              "<style scoped>\n",
              "    .dataframe tbody tr th:only-of-type {\n",
              "        vertical-align: middle;\n",
              "    }\n",
              "\n",
              "    .dataframe tbody tr th {\n",
              "        vertical-align: top;\n",
              "    }\n",
              "\n",
              "    .dataframe thead th {\n",
              "        text-align: right;\n",
              "    }\n",
              "</style>\n",
              "<table border=\"1\" class=\"dataframe\">\n",
              "  <thead>\n",
              "    <tr style=\"text-align: right;\">\n",
              "      <th></th>\n",
              "      <th>Cleaned_Review</th>\n",
              "    </tr>\n",
              "  </thead>\n",
              "  <tbody>\n",
              "    <tr>\n",
              "      <th>0</th>\n",
              "      <td>nice hotel expensive parking got good deal sta...</td>\n",
              "    </tr>\n",
              "    <tr>\n",
              "      <th>1</th>\n",
              "      <td>ok nothing special charge diamond member hilto...</td>\n",
              "    </tr>\n",
              "    <tr>\n",
              "      <th>2</th>\n",
              "      <td>nice rooms not 4* experience hotel monaco seat...</td>\n",
              "    </tr>\n",
              "    <tr>\n",
              "      <th>3</th>\n",
              "      <td>unique, great stay, wonderful time hotel monac...</td>\n",
              "    </tr>\n",
              "    <tr>\n",
              "      <th>4</th>\n",
              "      <td>great stay great stay, went seahawk game aweso...</td>\n",
              "    </tr>\n",
              "    <tr>\n",
              "      <th>5</th>\n",
              "      <td>love monaco staff husband stayed hotel crazy w...</td>\n",
              "    </tr>\n",
              "    <tr>\n",
              "      <th>6</th>\n",
              "      <td>cozy stay rainy city, husband spent 7 nights m...</td>\n",
              "    </tr>\n",
              "    <tr>\n",
              "      <th>7</th>\n",
              "      <td>excellent staff, housekeeping quality hotel ch...</td>\n",
              "    </tr>\n",
              "    <tr>\n",
              "      <th>8</th>\n",
              "      <td>hotel stayed hotel monaco cruise, rooms genero...</td>\n",
              "    </tr>\n",
              "    <tr>\n",
              "      <th>9</th>\n",
              "      <td>excellent stayed hotel monaco past w/e delight...</td>\n",
              "    </tr>\n",
              "  </tbody>\n",
              "</table>\n",
              "</div>"
            ],
            "text/plain": [
              "                                      Cleaned_Review\n",
              "0  nice hotel expensive parking got good deal sta...\n",
              "1  ok nothing special charge diamond member hilto...\n",
              "2  nice rooms not 4* experience hotel monaco seat...\n",
              "3  unique, great stay, wonderful time hotel monac...\n",
              "4  great stay great stay, went seahawk game aweso...\n",
              "5  love monaco staff husband stayed hotel crazy w...\n",
              "6  cozy stay rainy city, husband spent 7 nights m...\n",
              "7  excellent staff, housekeeping quality hotel ch...\n",
              "8  hotel stayed hotel monaco cruise, rooms genero...\n",
              "9  excellent stayed hotel monaco past w/e delight..."
            ]
          },
          "metadata": {},
          "output_type": "display_data"
        },
        {
          "name": "stdout",
          "output_type": "stream",
          "text": [
            "After further cleaning: 20491 reviews remain.\n"
          ]
        }
      ],
      "source": [
        "# Cell 9: Remove non-ASCII characters and words with repeated characters\n",
        "def remove_non_ascii(text):\n",
        "    return ''.join([c if ord(c) < 128 else '' for c in text])\n",
        "\n",
        "def remove_repeated_words(text):\n",
        "    # Remove words with any character repeated 3 or more times in a row\n",
        "    return ' '.join([w for w in text.split() if not re.search(r'(.)\\1{2,}', w)])\n",
        "\n",
        "df['Cleaned_Review'] = df['Cleaned_Review'].apply(remove_non_ascii)\n",
        "df['Cleaned_Review'] = df['Cleaned_Review'].apply(remove_repeated_words)\n",
        "\n",
        "display(df[['Cleaned_Review']].head(10))\n",
        "print(f\"After further cleaning: {len(df)} reviews remain.\")\n"
      ]
    },
    {
      "cell_type": "markdown",
      "metadata": {},
      "source": [
        "## Further Cleaning: Remove Non-ASCII Characters and Words with Repeated Characters\n",
        "\n",
        "This cell will:\n",
        "- Remove any non-ASCII characters from the reviews (but keep the review itself)\n",
        "- Remove words that contain repeated characters (e.g., 'soooo', '!!!!')\n",
        "\n",
        "The cleaned results will be displayed for validation.\n"
      ]
    },
    {
      "cell_type": "code",
      "execution_count": 62,
      "metadata": {},
      "outputs": [
        {
          "data": {
            "text/html": [
              "<div>\n",
              "<style scoped>\n",
              "    .dataframe tbody tr th:only-of-type {\n",
              "        vertical-align: middle;\n",
              "    }\n",
              "\n",
              "    .dataframe tbody tr th {\n",
              "        vertical-align: top;\n",
              "    }\n",
              "\n",
              "    .dataframe thead th {\n",
              "        text-align: right;\n",
              "    }\n",
              "</style>\n",
              "<table border=\"1\" class=\"dataframe\">\n",
              "  <thead>\n",
              "    <tr style=\"text-align: right;\">\n",
              "      <th></th>\n",
              "      <th>Cleaned_Review</th>\n",
              "    </tr>\n",
              "  </thead>\n",
              "  <tbody>\n",
              "    <tr>\n",
              "      <th>0</th>\n",
              "      <td>nice hotel expensive parking got good deal sta...</td>\n",
              "    </tr>\n",
              "    <tr>\n",
              "      <th>1</th>\n",
              "      <td>ok nothing special charge diamond member hilto...</td>\n",
              "    </tr>\n",
              "    <tr>\n",
              "      <th>2</th>\n",
              "      <td>nice rooms not 4* experience hotel monaco seat...</td>\n",
              "    </tr>\n",
              "    <tr>\n",
              "      <th>3</th>\n",
              "      <td>unique, great stay, wonderful time hotel monac...</td>\n",
              "    </tr>\n",
              "    <tr>\n",
              "      <th>4</th>\n",
              "      <td>great stay great stay, went seahawk game aweso...</td>\n",
              "    </tr>\n",
              "    <tr>\n",
              "      <th>5</th>\n",
              "      <td>love monaco staff husband stayed hotel crazy w...</td>\n",
              "    </tr>\n",
              "    <tr>\n",
              "      <th>6</th>\n",
              "      <td>cozy stay rainy city, husband spent 7 nights m...</td>\n",
              "    </tr>\n",
              "    <tr>\n",
              "      <th>7</th>\n",
              "      <td>excellent staff, housekeeping quality hotel ch...</td>\n",
              "    </tr>\n",
              "    <tr>\n",
              "      <th>8</th>\n",
              "      <td>hotel stayed hotel monaco cruise, rooms genero...</td>\n",
              "    </tr>\n",
              "    <tr>\n",
              "      <th>9</th>\n",
              "      <td>excellent stayed hotel monaco past w/e delight...</td>\n",
              "    </tr>\n",
              "  </tbody>\n",
              "</table>\n",
              "</div>"
            ],
            "text/plain": [
              "                                      Cleaned_Review\n",
              "0  nice hotel expensive parking got good deal sta...\n",
              "1  ok nothing special charge diamond member hilto...\n",
              "2  nice rooms not 4* experience hotel monaco seat...\n",
              "3  unique, great stay, wonderful time hotel monac...\n",
              "4  great stay great stay, went seahawk game aweso...\n",
              "5  love monaco staff husband stayed hotel crazy w...\n",
              "6  cozy stay rainy city, husband spent 7 nights m...\n",
              "7  excellent staff, housekeeping quality hotel ch...\n",
              "8  hotel stayed hotel monaco cruise, rooms genero...\n",
              "9  excellent stayed hotel monaco past w/e delight..."
            ]
          },
          "metadata": {},
          "output_type": "display_data"
        },
        {
          "name": "stdout",
          "output_type": "stream",
          "text": [
            "After further cleaning: 20491 reviews remain.\n"
          ]
        }
      ],
      "source": [
        "# Cell 10: Remove non-ASCII characters and words with repeated characters\n",
        "def remove_non_ascii(text):\n",
        "    return ''.join([c if ord(c) < 128 else '' for c in text])\n",
        "\n",
        "def remove_repeated_words(text):\n",
        "    # Remove words with any character repeated 3 or more times in a row\n",
        "    return ' '.join([w for w in text.split() if not re.search(r'(.)\\1{2,}', w)])\n",
        "\n",
        "df['Cleaned_Review'] = df['Cleaned_Review'].apply(remove_non_ascii)\n",
        "df['Cleaned_Review'] = df['Cleaned_Review'].apply(remove_repeated_words)\n",
        "\n",
        "display(df[['Cleaned_Review']].head(10))\n",
        "print(f\"After further cleaning: {len(df)} reviews remain.\")\n"
      ]
    },
    {
      "cell_type": "markdown",
      "metadata": {},
      "source": [
        "## Sentiment-Based Chunking\n",
        "\n",
        "From this point, the notebook will process positive and negative reviews separately. All chunking, summarization, and similarity analysis will be performed on these two groups independently to enable clear comparison between positive and negative sentiment.\n"
      ]
    },
    {
      "cell_type": "code",
      "execution_count": 63,
      "metadata": {},
      "outputs": [
        {
          "name": "stdout",
          "output_type": "stream",
          "text": [
            "Positive reviews: 15093\n",
            "Negative reviews: 5398\n"
          ]
        }
      ],
      "source": [
        "# Split reviews by sentiment\n",
        "positive_df = df[df['Rating'] >= 4]\n",
        "negative_df = df[df['Rating'] <= 3]\n",
        "\n",
        "print(f\"Positive reviews: {len(positive_df)}\")\n",
        "print(f\"Negative reviews: {len(negative_df)}\")\n"
      ]
    },
    {
      "cell_type": "code",
      "execution_count": 64,
      "metadata": {},
      "outputs": [
        {
          "name": "stdout",
          "output_type": "stream",
          "text": [
            "Positive chunks: 11843\n",
            "\n",
            "Sample positive chunk:\n",
            " nice hotel expensive parking got good deal stay hotel anniversary, arrived late evening took advice previous reviews did valet parking, check quick easy, little disappointed non-existent view room room clean nice size, bed comfortable woke stiff neck high pillows, not soundproof like heard music roo ...\n",
            "\n"
          ]
        }
      ],
      "source": [
        "# First, define the functions we need\n",
        "import spacy\n",
        "nlp = spacy.load(\"en_core_web_sm\")\n",
        "nlp.max_length = 20_000_000  # Increase max length to handle large texts\n",
        "\n",
        "def spacy_sent_tokenize(text):\n",
        "    return [sent.text for sent in nlp(text).sents]\n",
        "\n",
        "def group_sentences(sentences, max_chars=1200, overlap=150):\n",
        "    chunks = []\n",
        "    current_chunk = \"\"\n",
        "    for sent in sentences:\n",
        "        if len(current_chunk) + len(sent) + 1 <= max_chars:\n",
        "            current_chunk += \" \" + sent if current_chunk else sent\n",
        "        else:\n",
        "            chunks.append(current_chunk)\n",
        "            # Overlap: take last N chars from previous chunk\n",
        "            if overlap > 0 and len(current_chunk) > overlap:\n",
        "                current_chunk = current_chunk[-overlap:] + \" \" + sent\n",
        "            else:\n",
        "                current_chunk = sent\n",
        "    if current_chunk:\n",
        "        chunks.append(current_chunk)\n",
        "    return chunks\n",
        "\n",
        "# Tokenize and chunk positive reviews\n",
        "all_pos_sentences = []\n",
        "for review in positive_df['Cleaned_Review']:\n",
        "    all_pos_sentences.extend(spacy_sent_tokenize(review))\n",
        "positive_chunks = group_sentences(all_pos_sentences, max_chars=1200, overlap=150)\n",
        "\n",
        "print(f\"Positive chunks: {len(positive_chunks)}\")\n",
        "print(\"\\nSample positive chunk:\\n\", positive_chunks[0][:300], \"...\\n\")\n"
      ]
    },
    {
      "cell_type": "code",
      "execution_count": 69,
      "metadata": {},
      "outputs": [
        {
          "name": "stdout",
          "output_type": "stream",
          "text": [
            "Negative chunks: 4946\n",
            "\n",
            "Sample negative chunk:\n",
            " ok nothing special charge diamond member hilton decided chain shot 20th anniversary seattle, start booked suite paid extra website description not, suite bedroom bathroom standard hotel room, took printed reservation desk showed said things like tv couch ect desk clerk told oh mixed suites descripti ...\n",
            "\n"
          ]
        }
      ],
      "source": [
        "# Tokenize and chunk negative reviews\n",
        "all_neg_sentences = []\n",
        "for review in negative_df['Cleaned_Review']:\n",
        "    all_neg_sentences.extend(spacy_sent_tokenize(review))\n",
        "negative_chunks = group_sentences(all_neg_sentences, max_chars=1200, overlap=150)\n",
        "\n",
        "print(f\"Negative chunks: {len(negative_chunks)}\")\n",
        "print(\"\\nSample negative chunk:\\n\", negative_chunks[0][:300], \"...\\n\")\n"
      ]
    },
    {
      "cell_type": "code",
      "execution_count": 70,
      "metadata": {},
      "outputs": [
        {
          "name": "stdout",
          "output_type": "stream",
          "text": [
            "Positive chunks - Min: 158, Max: 5262, Avg: 1034\n",
            "Negative chunks - Min: 191, Max: 4583, Avg: 1029\n"
          ]
        }
      ],
      "source": [
        "# (Optional) Print statistics for both sets of chunks\n",
        "def print_chunk_stats(chunks, label):\n",
        "    lengths = [len(chunk) for chunk in chunks]\n",
        "    print(f\"{label} - Min: {min(lengths)}, Max: {max(lengths)}, Avg: {sum(lengths)//len(lengths)}\")\n",
        "\n",
        "print_chunk_stats(positive_chunks, \"Positive chunks\")\n",
        "print_chunk_stats(negative_chunks, \"Negative chunks\")\n"
      ]
    },
    {
      "cell_type": "markdown",
      "metadata": {},
      "source": [
        "## Setup LangChain with FLAN-T5\n",
        "\n",
        "We'll use LangChain's HuggingFace integration to work with FLAN-T5 for generating insights from reviews.\n"
      ]
    },
    {
      "cell_type": "code",
      "execution_count": 77,
      "metadata": {},
      "outputs": [
        {
          "name": "stdout",
          "output_type": "stream",
          "text": [
            "Defaulting to user installation because normal site-packages is not writeable\n",
            "Requirement already satisfied: langchain in /Users/nanditakrishnan/Library/Python/3.9/lib/python/site-packages (0.3.27)\n",
            "Requirement already satisfied: langchain-community in /Users/nanditakrishnan/Library/Python/3.9/lib/python/site-packages (0.3.30)\n",
            "Collecting langchain-huggingface\n",
            "  Downloading langchain_huggingface-0.3.1-py3-none-any.whl (27 kB)\n",
            "Requirement already satisfied: langchain-text-splitters<1.0.0,>=0.3.9 in /Users/nanditakrishnan/Library/Python/3.9/lib/python/site-packages (from langchain) (0.3.11)\n",
            "Requirement already satisfied: langchain-core<1.0.0,>=0.3.72 in /Users/nanditakrishnan/Library/Python/3.9/lib/python/site-packages (from langchain) (0.3.77)\n",
            "Requirement already satisfied: langsmith>=0.1.17 in /Users/nanditakrishnan/Library/Python/3.9/lib/python/site-packages (from langchain) (0.4.31)\n",
            "Requirement already satisfied: SQLAlchemy<3,>=1.4 in /Users/nanditakrishnan/Library/Python/3.9/lib/python/site-packages (from langchain) (2.0.43)\n",
            "Requirement already satisfied: PyYAML>=5.3 in /Users/nanditakrishnan/Library/Python/3.9/lib/python/site-packages (from langchain) (6.0.3)\n",
            "Requirement already satisfied: pydantic<3.0.0,>=2.7.4 in /Users/nanditakrishnan/Library/Python/3.9/lib/python/site-packages (from langchain) (2.11.9)\n",
            "Requirement already satisfied: requests<3,>=2 in /Users/nanditakrishnan/Library/Python/3.9/lib/python/site-packages (from langchain) (2.32.5)\n",
            "Requirement already satisfied: async-timeout<5.0.0,>=4.0.0 in /Users/nanditakrishnan/Library/Python/3.9/lib/python/site-packages (from langchain) (4.0.3)\n",
            "Requirement already satisfied: httpx-sse<1.0.0,>=0.4.0 in /Users/nanditakrishnan/Library/Python/3.9/lib/python/site-packages (from langchain-community) (0.4.1)\n",
            "Requirement already satisfied: aiohttp<4.0.0,>=3.8.3 in /Users/nanditakrishnan/Library/Python/3.9/lib/python/site-packages (from langchain-community) (3.12.15)\n",
            "Requirement already satisfied: numpy>=1.26.2 in /Users/nanditakrishnan/Library/Python/3.9/lib/python/site-packages (from langchain-community) (2.0.2)\n",
            "Requirement already satisfied: dataclasses-json<0.7.0,>=0.6.7 in /Users/nanditakrishnan/Library/Python/3.9/lib/python/site-packages (from langchain-community) (0.6.7)\n",
            "Requirement already satisfied: pydantic-settings<3.0.0,>=2.10.1 in /Users/nanditakrishnan/Library/Python/3.9/lib/python/site-packages (from langchain-community) (2.11.0)\n",
            "Requirement already satisfied: tenacity!=8.4.0,<10.0.0,>=8.1.0 in /Users/nanditakrishnan/Library/Python/3.9/lib/python/site-packages (from langchain-community) (9.1.2)\n",
            "Requirement already satisfied: huggingface-hub>=0.33.4 in /Users/nanditakrishnan/Library/Python/3.9/lib/python/site-packages (from langchain-huggingface) (0.35.3)\n",
            "Requirement already satisfied: tokenizers>=0.19.1 in /Users/nanditakrishnan/Library/Python/3.9/lib/python/site-packages (from langchain-huggingface) (0.22.1)\n",
            "Requirement already satisfied: frozenlist>=1.1.1 in /Users/nanditakrishnan/Library/Python/3.9/lib/python/site-packages (from aiohttp<4.0.0,>=3.8.3->langchain-community) (1.7.0)\n",
            "Requirement already satisfied: aiohappyeyeballs>=2.5.0 in /Users/nanditakrishnan/Library/Python/3.9/lib/python/site-packages (from aiohttp<4.0.0,>=3.8.3->langchain-community) (2.6.1)\n",
            "Requirement already satisfied: aiosignal>=1.4.0 in /Users/nanditakrishnan/Library/Python/3.9/lib/python/site-packages (from aiohttp<4.0.0,>=3.8.3->langchain-community) (1.4.0)\n",
            "Requirement already satisfied: attrs>=17.3.0 in /Users/nanditakrishnan/Library/Python/3.9/lib/python/site-packages (from aiohttp<4.0.0,>=3.8.3->langchain-community) (25.3.0)\n",
            "Requirement already satisfied: propcache>=0.2.0 in /Users/nanditakrishnan/Library/Python/3.9/lib/python/site-packages (from aiohttp<4.0.0,>=3.8.3->langchain-community) (0.3.2)\n",
            "Requirement already satisfied: multidict<7.0,>=4.5 in /Users/nanditakrishnan/Library/Python/3.9/lib/python/site-packages (from aiohttp<4.0.0,>=3.8.3->langchain-community) (6.6.4)\n",
            "Requirement already satisfied: yarl<2.0,>=1.17.0 in /Users/nanditakrishnan/Library/Python/3.9/lib/python/site-packages (from aiohttp<4.0.0,>=3.8.3->langchain-community) (1.20.1)\n",
            "Requirement already satisfied: typing-extensions>=4.2 in /Users/nanditakrishnan/Library/Python/3.9/lib/python/site-packages (from aiosignal>=1.4.0->aiohttp<4.0.0,>=3.8.3->langchain-community) (4.14.1)\n",
            "Requirement already satisfied: marshmallow<4.0.0,>=3.18.0 in /Users/nanditakrishnan/Library/Python/3.9/lib/python/site-packages (from dataclasses-json<0.7.0,>=0.6.7->langchain-community) (3.26.1)\n",
            "Requirement already satisfied: typing-inspect<1,>=0.4.0 in /Users/nanditakrishnan/Library/Python/3.9/lib/python/site-packages (from dataclasses-json<0.7.0,>=0.6.7->langchain-community) (0.9.0)\n",
            "Requirement already satisfied: packaging>=20.9 in /Users/nanditakrishnan/Library/Python/3.9/lib/python/site-packages (from huggingface-hub>=0.33.4->langchain-huggingface) (25.0)\n",
            "Requirement already satisfied: hf-xet<2.0.0,>=1.1.3 in /Users/nanditakrishnan/Library/Python/3.9/lib/python/site-packages (from huggingface-hub>=0.33.4->langchain-huggingface) (1.1.10)\n",
            "Requirement already satisfied: filelock in /Users/nanditakrishnan/Library/Python/3.9/lib/python/site-packages (from huggingface-hub>=0.33.4->langchain-huggingface) (3.19.1)\n",
            "Requirement already satisfied: fsspec>=2023.5.0 in /Users/nanditakrishnan/Library/Python/3.9/lib/python/site-packages (from huggingface-hub>=0.33.4->langchain-huggingface) (2025.9.0)\n",
            "Requirement already satisfied: tqdm>=4.42.1 in /Users/nanditakrishnan/Library/Python/3.9/lib/python/site-packages (from huggingface-hub>=0.33.4->langchain-huggingface) (4.67.1)\n",
            "Requirement already satisfied: jsonpatch<2.0.0,>=1.33.0 in /Users/nanditakrishnan/Library/Python/3.9/lib/python/site-packages (from langchain-core<1.0.0,>=0.3.72->langchain) (1.33)\n",
            "Requirement already satisfied: jsonpointer>=1.9 in /Users/nanditakrishnan/Library/Python/3.9/lib/python/site-packages (from jsonpatch<2.0.0,>=1.33.0->langchain-core<1.0.0,>=0.3.72->langchain) (3.0.0)\n",
            "Requirement already satisfied: httpx<1,>=0.23.0 in /Users/nanditakrishnan/Library/Python/3.9/lib/python/site-packages (from langsmith>=0.1.17->langchain) (0.28.1)\n",
            "Requirement already satisfied: zstandard>=0.23.0 in /Users/nanditakrishnan/Library/Python/3.9/lib/python/site-packages (from langsmith>=0.1.17->langchain) (0.25.0)\n",
            "Requirement already satisfied: requests-toolbelt>=1.0.0 in /Users/nanditakrishnan/Library/Python/3.9/lib/python/site-packages (from langsmith>=0.1.17->langchain) (1.0.0)\n",
            "Requirement already satisfied: orjson>=3.9.14 in /Users/nanditakrishnan/Library/Python/3.9/lib/python/site-packages (from langsmith>=0.1.17->langchain) (3.11.3)\n",
            "Requirement already satisfied: idna in /Users/nanditakrishnan/Library/Python/3.9/lib/python/site-packages (from httpx<1,>=0.23.0->langsmith>=0.1.17->langchain) (3.10)\n",
            "Requirement already satisfied: anyio in /Users/nanditakrishnan/Library/Python/3.9/lib/python/site-packages (from httpx<1,>=0.23.0->langsmith>=0.1.17->langchain) (4.11.0)\n",
            "Requirement already satisfied: certifi in /Users/nanditakrishnan/Library/Python/3.9/lib/python/site-packages (from httpx<1,>=0.23.0->langsmith>=0.1.17->langchain) (2025.8.3)\n",
            "Requirement already satisfied: httpcore==1.* in /Users/nanditakrishnan/Library/Python/3.9/lib/python/site-packages (from httpx<1,>=0.23.0->langsmith>=0.1.17->langchain) (1.0.9)\n",
            "Requirement already satisfied: h11>=0.16 in /Users/nanditakrishnan/Library/Python/3.9/lib/python/site-packages (from httpcore==1.*->httpx<1,>=0.23.0->langsmith>=0.1.17->langchain) (0.16.0)\n",
            "Requirement already satisfied: typing-inspection>=0.4.0 in /Users/nanditakrishnan/Library/Python/3.9/lib/python/site-packages (from pydantic<3.0.0,>=2.7.4->langchain) (0.4.2)\n",
            "Requirement already satisfied: pydantic-core==2.33.2 in /Users/nanditakrishnan/Library/Python/3.9/lib/python/site-packages (from pydantic<3.0.0,>=2.7.4->langchain) (2.33.2)\n",
            "Requirement already satisfied: annotated-types>=0.6.0 in /Users/nanditakrishnan/Library/Python/3.9/lib/python/site-packages (from pydantic<3.0.0,>=2.7.4->langchain) (0.7.0)\n",
            "Requirement already satisfied: python-dotenv>=0.21.0 in /Users/nanditakrishnan/Library/Python/3.9/lib/python/site-packages (from pydantic-settings<3.0.0,>=2.10.1->langchain-community) (1.1.1)\n",
            "Requirement already satisfied: charset_normalizer<4,>=2 in /Users/nanditakrishnan/Library/Python/3.9/lib/python/site-packages (from requests<3,>=2->langchain) (3.4.3)\n",
            "Requirement already satisfied: urllib3<3,>=1.21.1 in /Users/nanditakrishnan/Library/Python/3.9/lib/python/site-packages (from requests<3,>=2->langchain) (2.5.0)\n",
            "Requirement already satisfied: mypy-extensions>=0.3.0 in /Users/nanditakrishnan/Library/Python/3.9/lib/python/site-packages (from typing-inspect<1,>=0.4.0->dataclasses-json<0.7.0,>=0.6.7->langchain-community) (1.1.0)\n",
            "Requirement already satisfied: sniffio>=1.1 in /Users/nanditakrishnan/Library/Python/3.9/lib/python/site-packages (from anyio->httpx<1,>=0.23.0->langsmith>=0.1.17->langchain) (1.3.1)\n",
            "Requirement already satisfied: exceptiongroup>=1.0.2 in /Users/nanditakrishnan/Library/Python/3.9/lib/python/site-packages (from anyio->httpx<1,>=0.23.0->langsmith>=0.1.17->langchain) (1.3.0)\n",
            "Installing collected packages: langchain-huggingface\n",
            "Successfully installed langchain-huggingface-0.3.1\n",
            "\u001b[33mWARNING: You are using pip version 21.2.4; however, version 25.2 is available.\n",
            "You should consider upgrading via the '/Applications/Xcode.app/Contents/Developer/usr/bin/python3 -m pip install --upgrade pip' command.\u001b[0m\n",
            "Using device: CPU\n"
          ]
        },
        {
          "name": "stderr",
          "output_type": "stream",
          "text": [
            "Device set to use cpu\n",
            "The following generation flags are not valid and may be ignored: ['temperature', 'top_p']. Set `TRANSFORMERS_VERBOSITY=info` for more details.\n"
          ]
        },
        {
          "name": "stdout",
          "output_type": "stream",
          "text": [
            "✓ LangChain with FLAN-T5 loaded successfully!\n"
          ]
        }
      ],
      "source": [
        "# Install LangChain\n",
        "import sys\n",
        "!{sys.executable} -m pip install langchain langchain-community langchain-huggingface\n",
        "\n",
        "# Import LangChain components\n",
        "from langchain_huggingface import HuggingFacePipeline\n",
        "from langchain.prompts import PromptTemplate\n",
        "from langchain.chains import LLMChain\n",
        "from transformers import AutoTokenizer, AutoModelForSeq2SeqLM, pipeline\n",
        "import torch\n",
        "\n",
        "# Check if GPU is available\n",
        "device = 0 if torch.cuda.is_available() else -1\n",
        "print(f\"Using device: {'GPU (cuda)' if device == 0 else 'CPU'}\")\n",
        "\n",
        "# Load FLAN-T5 model\n",
        "model_name = \"google/flan-t5-base\"\n",
        "tokenizer = AutoTokenizer.from_pretrained(model_name)\n",
        "model = AutoModelForSeq2SeqLM.from_pretrained(model_name)\n",
        "\n",
        "# Create HuggingFace pipeline\n",
        "hf_pipeline = pipeline(\n",
        "    \"text2text-generation\",\n",
        "    model=model,\n",
        "    tokenizer=tokenizer,\n",
        "    max_new_tokens=150,\n",
        "    device=device,\n",
        "    temperature=0.7,\n",
        "    top_p=0.9\n",
        ")\n",
        "\n",
        "# Wrap in LangChain\n",
        "llm = HuggingFacePipeline(pipeline=hf_pipeline)\n",
        "\n",
        "print(\"✓ LangChain with FLAN-T5 loaded successfully!\")\n"
      ]
    },
    {
      "cell_type": "markdown",
      "metadata": {},
      "source": [
        "## Generate Insights from Positive Reviews\n",
        "\n",
        "Use FLAN-T5 with custom prompts to extract key insights and themes from positive review chunks.\n"
      ]
    },
    {
      "cell_type": "code",
      "execution_count": 79,
      "metadata": {},
      "outputs": [
        {
          "name": "stderr",
          "output_type": "stream",
          "text": [
            "/var/folders/1k/q0002j711x793jnb4kl_p6340000gn/T/ipykernel_45918/2320142419.py:17: LangChainDeprecationWarning: The class `LLMChain` was deprecated in LangChain 0.1.17 and will be removed in 1.0. Use :meth:`~RunnableSequence, e.g., `prompt | llm`` instead.\n",
            "  positive_chain = LLMChain(llm=llm, prompt=positive_prompt)\n"
          ]
        },
        {
          "name": "stdout",
          "output_type": "stream",
          "text": [
            "Generating insights for 50 chunks...\n"
          ]
        },
        {
          "name": "stderr",
          "output_type": "stream",
          "text": [
            "  0%|          | 0/50 [00:00<?, ?it/s]/var/folders/1k/q0002j711x793jnb4kl_p6340000gn/T/ipykernel_45918/2320142419.py:31: LangChainDeprecationWarning: The method `Chain.run` was deprecated in langchain 0.1.0 and will be removed in 1.0. Use :meth:`~invoke` instead.\n",
            "  result = chain.run(text=chunk)\n",
            "100%|██████████| 50/50 [10:56<00:00, 13.13s/it]"
          ]
        },
        {
          "name": "stdout",
          "output_type": "stream",
          "text": [
            "\n",
            "✓ Generated 50 insights for positive reviews\n",
            "\n",
            "Sample positive insight:\n",
            "nice hotel expensive parking got good deal stay hotel anniversary, arrived late evening took advice previous reviews did valet parking, check quick easy, little disappointed non-existent view room room clean nice size bed comfortable woke stiff neck high pillows, not soundproof like heard music room night morning loud bangs doors opening closing hear people talking hallway, maybe just noisy neighbors, aveda bath products nice, did not goldfish stay nice touch taken advantage staying longer, location great walking distance shopping area, pet friendly room showed no signs animal hair smells, monaco suite sleeping area big striped curtains pulled closed nice touch felt cosy goldfish named brandi enjoyed, did n't partake free wine coffee/tea\n"
          ]
        },
        {
          "name": "stderr",
          "output_type": "stream",
          "text": [
            "\n"
          ]
        }
      ],
      "source": [
        "# Create LangChain prompt template and chain for positive reviews\n",
        "from tqdm import tqdm\n",
        "\n",
        "# Define prompt template for positive reviews\n",
        "positive_template = \"\"\"Based on these hotel reviews, list the main positive aspects that guests appreciate:\n",
        "\n",
        "{text}\n",
        "\n",
        "Key positive aspects:\"\"\"\n",
        "\n",
        "positive_prompt = PromptTemplate(\n",
        "    input_variables=[\"text\"],\n",
        "    template=positive_template\n",
        ")\n",
        "\n",
        "# Create LangChain chain\n",
        "positive_chain = LLMChain(llm=llm, prompt=positive_prompt)\n",
        "\n",
        "# Generate insights for positive chunks\n",
        "def generate_insights_with_langchain(chain, chunks, max_chunks=50):\n",
        "    \"\"\"\n",
        "    Generate insights using LangChain.\n",
        "    \"\"\"\n",
        "    insights = []\n",
        "    chunks_to_process = chunks[:max_chunks]\n",
        "    \n",
        "    print(f\"Generating insights for {len(chunks_to_process)} chunks...\")\n",
        "    \n",
        "    for chunk in tqdm(chunks_to_process):\n",
        "        try:\n",
        "            result = chain.run(text=chunk)\n",
        "            insights.append(result)\n",
        "        except Exception as e:\n",
        "            print(f\"Error processing chunk: {e}\")\n",
        "            insights.append(\"Error generating insight\")\n",
        "    \n",
        "    return insights\n",
        "\n",
        "positive_insights = generate_insights_with_langchain(\n",
        "    positive_chain,\n",
        "    positive_chunks,\n",
        "    max_chunks=50\n",
        ")\n",
        "\n",
        "print(f\"\\n✓ Generated {len(positive_insights)} insights for positive reviews\")\n",
        "print(f\"\\nSample positive insight:\\n{positive_insights[0]}\")\n"
      ]
    },
    {
      "cell_type": "markdown",
      "metadata": {},
      "source": [
        "## Generate Insights from Negative Reviews\n",
        "\n",
        "Use FLAN-T5 to extract key complaints and issues from negative review chunks.\n"
      ]
    },
    {
      "cell_type": "code",
      "execution_count": null,
      "metadata": {},
      "outputs": [
        {
          "name": "stdout",
          "output_type": "stream",
          "text": [
            "Summarizing 50 chunks...\n"
          ]
        },
        {
          "name": "stderr",
          "output_type": "stream",
          "text": [
            " 14%|█▍        | 1/7 [00:36<03:37, 36.21s/it]Your max_length is set to 150, but your input_length is only 123. Since this is a summarization task, where outputs shorter than the input are typically wanted, you might consider decreasing max_length manually, e.g. summarizer('...', max_length=61)\n",
            "Your max_length is set to 150, but your input_length is only 121. Since this is a summarization task, where outputs shorter than the input are typically wanted, you might consider decreasing max_length manually, e.g. summarizer('...', max_length=60)\n",
            " 29%|██▊       | 2/7 [01:19<03:21, 40.40s/it]Your max_length is set to 150, but your input_length is only 145. Since this is a summarization task, where outputs shorter than the input are typically wanted, you might consider decreasing max_length manually, e.g. summarizer('...', max_length=72)\n",
            "Your max_length is set to 150, but your input_length is only 83. Since this is a summarization task, where outputs shorter than the input are typically wanted, you might consider decreasing max_length manually, e.g. summarizer('...', max_length=41)\n",
            " 43%|████▎     | 3/7 [01:56<02:35, 38.75s/it]Your max_length is set to 150, but your input_length is only 147. Since this is a summarization task, where outputs shorter than the input are typically wanted, you might consider decreasing max_length manually, e.g. summarizer('...', max_length=73)\n",
            " 57%|█████▋    | 4/7 [02:41<02:04, 41.47s/it]Your max_length is set to 150, but your input_length is only 130. Since this is a summarization task, where outputs shorter than the input are typically wanted, you might consider decreasing max_length manually, e.g. summarizer('...', max_length=65)\n",
            " 86%|████████▌ | 6/7 [04:32<00:49, 49.33s/it]Your max_length is set to 150, but your input_length is only 103. Since this is a summarization task, where outputs shorter than the input are typically wanted, you might consider decreasing max_length manually, e.g. summarizer('...', max_length=51)\n",
            "100%|██████████| 7/7 [04:48<00:00, 41.26s/it]"
          ]
        },
        {
          "name": "stdout",
          "output_type": "stream",
          "text": [
            "\n",
            "✓ Generated 50 summaries for negative reviews\n",
            "\n",
            "Sample negative summary:\n",
            "ok nothing special charge diamond member hilton decided chain shot 20th anniversary seattle, start booked suite paid extra website description not, suite bedroom bathroom standard hotel room, took printed reservation desk showed said things like tv couch ect desk clerk told oh mixed suites description\n"
          ]
        },
        {
          "name": "stderr",
          "output_type": "stream",
          "text": [
            "\n"
          ]
        }
      ],
      "source": [
        "# Create LangChain prompt template and chain for negative reviews\n",
        "negative_template = \"\"\"Based on these hotel reviews, list the main complaints and issues that guests mentioned:\n",
        "\n",
        "{text}\n",
        "\n",
        "Key complaints and issues:\"\"\"\n",
        "\n",
        "negative_prompt = PromptTemplate(\n",
        "    input_variables=[\"text\"],\n",
        "    template=negative_template\n",
        ")\n",
        "\n",
        "# Create LangChain chain for negative reviews\n",
        "negative_chain = LLMChain(llm=llm, prompt=negative_prompt)\n",
        "\n",
        "# Generate insights for negative chunks\n",
        "negative_insights = generate_insights_with_langchain(\n",
        "    negative_chain,\n",
        "    negative_chunks,\n",
        "    max_chunks=50\n",
        ")\n",
        "\n",
        "print(f\"\\n✓ Generated {len(negative_insights)} insights for negative reviews\")\n",
        "print(f\"\\nSample negative insight:\\n{negative_insights[0]}\")\n"
      ]
    },
    {
      "cell_type": "markdown",
      "metadata": {},
      "source": [
        "## Extract Key Themes Using Topic Modeling\n",
        "\n",
        "Use keyword extraction to identify the most common themes in positive and negative reviews.\n"
      ]
    },
    {
      "cell_type": "code",
      "execution_count": 74,
      "metadata": {},
      "outputs": [
        {
          "name": "stdout",
          "output_type": "stream",
          "text": [
            "Defaulting to user installation because normal site-packages is not writeable\n",
            "Requirement already satisfied: scikit-learn in /Users/nanditakrishnan/Library/Python/3.9/lib/python/site-packages (1.6.1)\n",
            "Requirement already satisfied: threadpoolctl>=3.1.0 in /Users/nanditakrishnan/Library/Python/3.9/lib/python/site-packages (from scikit-learn) (3.6.0)\n",
            "Requirement already satisfied: scipy>=1.6.0 in /Users/nanditakrishnan/Library/Python/3.9/lib/python/site-packages (from scikit-learn) (1.13.1)\n",
            "Requirement already satisfied: numpy>=1.19.5 in /Users/nanditakrishnan/Library/Python/3.9/lib/python/site-packages (from scikit-learn) (2.0.2)\n",
            "Requirement already satisfied: joblib>=1.2.0 in /Users/nanditakrishnan/Library/Python/3.9/lib/python/site-packages (from scikit-learn) (1.5.2)\n",
            "\u001b[33mWARNING: You are using pip version 21.2.4; however, version 25.2 is available.\n",
            "You should consider upgrading via the '/Applications/Xcode.app/Contents/Developer/usr/bin/python3 -m pip install --upgrade pip' command.\u001b[0m\n"
          ]
        }
      ],
      "source": [
        "# Install required packages for keyword extraction\n",
        "import sys\n",
        "!{sys.executable} -m pip install scikit-learn\n"
      ]
    },
    {
      "cell_type": "code",
      "execution_count": 75,
      "metadata": {},
      "outputs": [
        {
          "name": "stdout",
          "output_type": "stream",
          "text": [
            "Top Positive Review Themes:\n",
            "--------------------------------------------------\n",
            "  • hotel: 6.46\n",
            "  • great: 5.92\n",
            "  • good: 4.96\n",
            "  • place: 4.80\n",
            "  • room: 4.77\n",
            "  • stay: 4.47\n",
            "  • seattle: 4.43\n",
            "  • location: 4.06\n",
            "  • staff: 3.64\n",
            "  • stayed: 3.61\n",
            "  • nice: 3.53\n",
            "  • friendly: 3.29\n",
            "  • view: 3.26\n",
            "  • service: 2.84\n",
            "  • staff friendly: 2.75\n",
            "\n",
            "\n",
            "Top Negative Review Themes:\n",
            "--------------------------------------------------\n",
            "  • hotel: 6.80\n",
            "  • room: 5.98\n",
            "  • stay: 3.99\n",
            "  • stayed: 3.33\n",
            "  • good: 3.29\n",
            "  • place: 3.16\n",
            "  • staff: 3.12\n",
            "  • seattle: 2.78\n",
            "  • bed: 2.76\n",
            "  • night: 2.56\n",
            "  • city: 2.47\n",
            "  • just: 2.43\n",
            "  • parking: 2.41\n",
            "  • did: 2.33\n",
            "  • desk: 2.32\n"
          ]
        }
      ],
      "source": [
        "# Extract key themes using TF-IDF\n",
        "from sklearn.feature_extraction.text import TfidfVectorizer\n",
        "from collections import Counter\n",
        "\n",
        "def extract_key_themes(insights, top_n=15):\n",
        "    \"\"\"\n",
        "    Extract key themes from insights using TF-IDF.\n",
        "    \"\"\"\n",
        "    # Combine all insights into one corpus\n",
        "    corpus = ' '.join(insights)\n",
        "    \n",
        "    # Use TF-IDF to extract important words\n",
        "    vectorizer = TfidfVectorizer(\n",
        "        max_features=100,\n",
        "        stop_words='english',\n",
        "        ngram_range=(1, 2),  # Include both single words and bigrams\n",
        "        min_df=2\n",
        "    )\n",
        "    \n",
        "    tfidf_matrix = vectorizer.fit_transform(insights)\n",
        "    feature_names = vectorizer.get_feature_names_out()\n",
        "    \n",
        "    # Get average TF-IDF scores\n",
        "    scores = tfidf_matrix.sum(axis=0).A1\n",
        "    word_scores = dict(zip(feature_names, scores))\n",
        "    \n",
        "    # Sort by score\n",
        "    sorted_themes = sorted(word_scores.items(), key=lambda x: x[1], reverse=True)\n",
        "    \n",
        "    return sorted_themes[:top_n]\n",
        "\n",
        "# Extract themes from positive reviews\n",
        "positive_themes = extract_key_themes(positive_insights, top_n=15)\n",
        "print(\"Top Positive Review Themes:\")\n",
        "print(\"-\" * 50)\n",
        "for theme, score in positive_themes:\n",
        "    print(f\"  • {theme}: {score:.2f}\")\n",
        "\n",
        "print(\"\\n\")\n",
        "\n",
        "# Extract themes from negative reviews\n",
        "negative_themes = extract_key_themes(negative_insights, top_n=15)\n",
        "print(\"Top Negative Review Themes:\")\n",
        "print(\"-\" * 50)\n",
        "for theme, score in negative_themes:\n",
        "    print(f\"  • {theme}: {score:.2f}\")\n"
      ]
    },
    {
      "cell_type": "markdown",
      "metadata": {},
      "source": []
    }
  ],
  "metadata": {
    "kernelspec": {
      "display_name": "Python 3",
      "language": "python",
      "name": "python3"
    },
    "language_info": {
      "codemirror_mode": {
        "name": "ipython",
        "version": 3
      },
      "file_extension": ".py",
      "mimetype": "text/x-python",
      "name": "python",
      "nbconvert_exporter": "python",
      "pygments_lexer": "ipython3",
      "version": "3.9.6"
    }
  },
  "nbformat": 4,
  "nbformat_minor": 2
}
